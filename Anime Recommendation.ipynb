{
 "cells": [
  {
   "cell_type": "code",
   "execution_count": 84,
   "id": "7084aff3",
   "metadata": {},
   "outputs": [],
   "source": [
    "import pandas as pd\n",
    "reviews = pd.read_csv(\"reviews.csv\").drop(columns=['uid','link','scores','text'])\n",
    "animes = pd.read_csv(\"animes.csv\",index_col=0).drop(columns=['popularity','aired','members','ranked','score','img_url','link'])\n",
    "usuarios = pd.read_csv(\"profiles.csv\",index_col=0).drop(columns=['favorites_anime','link','birthday','gender'])"
   ]
  },
  {
   "cell_type": "code",
   "execution_count": 83,
   "id": "6800a9a3",
   "metadata": {},
   "outputs": [
    {
     "data": {
      "text/html": [
       "<div>\n",
       "<style scoped>\n",
       "    .dataframe tbody tr th:only-of-type {\n",
       "        vertical-align: middle;\n",
       "    }\n",
       "\n",
       "    .dataframe tbody tr th {\n",
       "        vertical-align: top;\n",
       "    }\n",
       "\n",
       "    .dataframe thead th {\n",
       "        text-align: right;\n",
       "    }\n",
       "</style>\n",
       "<table border=\"1\" class=\"dataframe\">\n",
       "  <thead>\n",
       "    <tr style=\"text-align: right;\">\n",
       "      <th></th>\n",
       "    </tr>\n",
       "    <tr>\n",
       "      <th>profile</th>\n",
       "    </tr>\n",
       "  </thead>\n",
       "  <tbody>\n",
       "    <tr>\n",
       "      <th>DesolatePsyche</th>\n",
       "    </tr>\n",
       "    <tr>\n",
       "      <th>baekbeans</th>\n",
       "    </tr>\n",
       "    <tr>\n",
       "      <th>skrn</th>\n",
       "    </tr>\n",
       "    <tr>\n",
       "      <th>edgewalker00</th>\n",
       "    </tr>\n",
       "    <tr>\n",
       "      <th>aManOfCulture99</th>\n",
       "    </tr>\n",
       "  </tbody>\n",
       "</table>\n",
       "</div>"
      ],
      "text/plain": [
       "Empty DataFrame\n",
       "Columns: []\n",
       "Index: [DesolatePsyche, baekbeans, skrn, edgewalker00, aManOfCulture99]"
      ]
     },
     "execution_count": 83,
     "metadata": {},
     "output_type": "execute_result"
    }
   ],
   "source": [
    "usuarios.head(5)"
   ]
  },
  {
   "cell_type": "code",
   "execution_count": 85,
   "id": "86d92e20",
   "metadata": {},
   "outputs": [
    {
     "data": {
      "text/html": [
       "<div>\n",
       "<style scoped>\n",
       "    .dataframe tbody tr th:only-of-type {\n",
       "        vertical-align: middle;\n",
       "    }\n",
       "\n",
       "    .dataframe tbody tr th {\n",
       "        vertical-align: top;\n",
       "    }\n",
       "\n",
       "    .dataframe thead th {\n",
       "        text-align: right;\n",
       "    }\n",
       "</style>\n",
       "<table border=\"1\" class=\"dataframe\">\n",
       "  <thead>\n",
       "    <tr style=\"text-align: right;\">\n",
       "      <th></th>\n",
       "      <th>title</th>\n",
       "      <th>synopsis</th>\n",
       "      <th>genre</th>\n",
       "      <th>episodes</th>\n",
       "    </tr>\n",
       "    <tr>\n",
       "      <th>uid</th>\n",
       "      <th></th>\n",
       "      <th></th>\n",
       "      <th></th>\n",
       "      <th></th>\n",
       "    </tr>\n",
       "  </thead>\n",
       "  <tbody>\n",
       "    <tr>\n",
       "      <th>28891</th>\n",
       "      <td>Haikyuu!! Second Season</td>\n",
       "      <td>Following their participation at the Inter-Hig...</td>\n",
       "      <td>['Comedy', 'Sports', 'Drama', 'School', 'Shoun...</td>\n",
       "      <td>25.0</td>\n",
       "    </tr>\n",
       "    <tr>\n",
       "      <th>23273</th>\n",
       "      <td>Shigatsu wa Kimi no Uso</td>\n",
       "      <td>Music accompanies the path of the human metron...</td>\n",
       "      <td>['Drama', 'Music', 'Romance', 'School', 'Shoun...</td>\n",
       "      <td>22.0</td>\n",
       "    </tr>\n",
       "    <tr>\n",
       "      <th>34599</th>\n",
       "      <td>Made in Abyss</td>\n",
       "      <td>The Abyss—a gaping chasm stretching down into ...</td>\n",
       "      <td>['Sci-Fi', 'Adventure', 'Mystery', 'Drama', 'F...</td>\n",
       "      <td>13.0</td>\n",
       "    </tr>\n",
       "    <tr>\n",
       "      <th>5114</th>\n",
       "      <td>Fullmetal Alchemist: Brotherhood</td>\n",
       "      <td>\"In order for something to be obtained, someth...</td>\n",
       "      <td>['Action', 'Military', 'Adventure', 'Comedy', ...</td>\n",
       "      <td>64.0</td>\n",
       "    </tr>\n",
       "    <tr>\n",
       "      <th>31758</th>\n",
       "      <td>Kizumonogatari III: Reiketsu-hen</td>\n",
       "      <td>After helping revive the legendary vampire Kis...</td>\n",
       "      <td>['Action', 'Mystery', 'Supernatural', 'Vampire']</td>\n",
       "      <td>1.0</td>\n",
       "    </tr>\n",
       "  </tbody>\n",
       "</table>\n",
       "</div>"
      ],
      "text/plain": [
       "                                  title  \\\n",
       "uid                                       \n",
       "28891           Haikyuu!! Second Season   \n",
       "23273           Shigatsu wa Kimi no Uso   \n",
       "34599                     Made in Abyss   \n",
       "5114   Fullmetal Alchemist: Brotherhood   \n",
       "31758  Kizumonogatari III: Reiketsu-hen   \n",
       "\n",
       "                                                synopsis  \\\n",
       "uid                                                        \n",
       "28891  Following their participation at the Inter-Hig...   \n",
       "23273  Music accompanies the path of the human metron...   \n",
       "34599  The Abyss—a gaping chasm stretching down into ...   \n",
       "5114   \"In order for something to be obtained, someth...   \n",
       "31758  After helping revive the legendary vampire Kis...   \n",
       "\n",
       "                                                   genre  episodes  \n",
       "uid                                                                 \n",
       "28891  ['Comedy', 'Sports', 'Drama', 'School', 'Shoun...      25.0  \n",
       "23273  ['Drama', 'Music', 'Romance', 'School', 'Shoun...      22.0  \n",
       "34599  ['Sci-Fi', 'Adventure', 'Mystery', 'Drama', 'F...      13.0  \n",
       "5114   ['Action', 'Military', 'Adventure', 'Comedy', ...      64.0  \n",
       "31758   ['Action', 'Mystery', 'Supernatural', 'Vampire']       1.0  "
      ]
     },
     "execution_count": 85,
     "metadata": {},
     "output_type": "execute_result"
    }
   ],
   "source": [
    "animes.head(5)"
   ]
  },
  {
   "cell_type": "code",
   "execution_count": 4,
   "id": "a48329b4",
   "metadata": {},
   "outputs": [
    {
     "data": {
      "text/html": [
       "<div>\n",
       "<style scoped>\n",
       "    .dataframe tbody tr th:only-of-type {\n",
       "        vertical-align: middle;\n",
       "    }\n",
       "\n",
       "    .dataframe tbody tr th {\n",
       "        vertical-align: top;\n",
       "    }\n",
       "\n",
       "    .dataframe thead th {\n",
       "        text-align: right;\n",
       "    }\n",
       "</style>\n",
       "<table border=\"1\" class=\"dataframe\">\n",
       "  <thead>\n",
       "    <tr style=\"text-align: right;\">\n",
       "      <th></th>\n",
       "      <th>profile</th>\n",
       "      <th>anime_uid</th>\n",
       "      <th>score</th>\n",
       "    </tr>\n",
       "  </thead>\n",
       "  <tbody>\n",
       "    <tr>\n",
       "      <th>0</th>\n",
       "      <td>DesolatePsyche</td>\n",
       "      <td>34096</td>\n",
       "      <td>8</td>\n",
       "    </tr>\n",
       "    <tr>\n",
       "      <th>1</th>\n",
       "      <td>baekbeans</td>\n",
       "      <td>34599</td>\n",
       "      <td>10</td>\n",
       "    </tr>\n",
       "    <tr>\n",
       "      <th>2</th>\n",
       "      <td>skrn</td>\n",
       "      <td>28891</td>\n",
       "      <td>7</td>\n",
       "    </tr>\n",
       "    <tr>\n",
       "      <th>3</th>\n",
       "      <td>edgewalker00</td>\n",
       "      <td>2904</td>\n",
       "      <td>9</td>\n",
       "    </tr>\n",
       "    <tr>\n",
       "      <th>4</th>\n",
       "      <td>aManOfCulture99</td>\n",
       "      <td>4181</td>\n",
       "      <td>10</td>\n",
       "    </tr>\n",
       "  </tbody>\n",
       "</table>\n",
       "</div>"
      ],
      "text/plain": [
       "           profile  anime_uid  score\n",
       "0   DesolatePsyche      34096      8\n",
       "1        baekbeans      34599     10\n",
       "2             skrn      28891      7\n",
       "3     edgewalker00       2904      9\n",
       "4  aManOfCulture99       4181     10"
      ]
     },
     "execution_count": 4,
     "metadata": {},
     "output_type": "execute_result"
    }
   ],
   "source": [
    "reviews.head(5)"
   ]
  },
  {
   "cell_type": "code",
   "execution_count": 5,
   "id": "cb5dc00d",
   "metadata": {},
   "outputs": [
    {
     "data": {
      "text/plain": [
       "<BarContainer object of 12 artists>"
      ]
     },
     "execution_count": 5,
     "metadata": {},
     "output_type": "execute_result"
    },
    {
     "data": {
      "image/png": "[encoded data removed]",
      "text/plain": [
       "<Figure size 720x720 with 1 Axes>"
      ]
     },
     "metadata": {
      "needs_background": "light"
     },
     "output_type": "display_data"
    }
   ],
   "source": [
    "import matplotlib.pyplot as plt\n",
    "#Distribución del score de las evaluaciones.\n",
    "data = reviews['score'].value_counts().sort_index(ascending=False)\n",
    "\n",
    "plt.figure(figsize=(10, 10))\n",
    "plt.ylabel(\"Cantidad de Ratings\")\n",
    "plt.xlabel(\"Rating\")\n",
    "plt.bar(data.index,data.values)"
   ]
  },
  {
   "cell_type": "code",
   "execution_count": 6,
   "id": "143a0517",
   "metadata": {},
   "outputs": [
    {
     "name": "stdout",
     "output_type": "stream",
     "text": [
      "Animes:  19311\n",
      "Usuarios:  81727\n",
      "Reviews:  192112\n"
     ]
    }
   ],
   "source": [
    "print('Animes: ',animes['uid'].count())\n",
    "print('Usuarios: ',usuarios['profile'].count())\n",
    "print('Reviews: ',reviews['profile'].count())"
   ]
  },
  {
   "cell_type": "code",
   "execution_count": 7,
   "id": "4fbdc5c1",
   "metadata": {},
   "outputs": [],
   "source": [
    "from surprise import SVD, SlopeOne, CoClustering\n",
    "from surprise import Reader, Dataset\n",
    "from surprise.accuracy import rmse\n",
    "\n",
    "reader = Reader(rating_scale=(1,10))\n",
    "data = Dataset.load_from_df(reviews,reader)"
   ]
  },
  {
   "cell_type": "code",
   "execution_count": 8,
   "id": "4ffe7c45",
   "metadata": {},
   "outputs": [],
   "source": [
    "from surprise.model_selection import cross_validate\n",
    "\n",
    "#Singular Value Decomposition (SVD)\n",
    "r1 = cross_validate(SVD(), data, measures = ['RMSE'], cv = 10,return_train_measures=True, verbose = False)\n",
    "\n",
    "#Slope One (the simplest form of non-trivial item-based collaborative filtering based on ratings)\n",
    "r2 = cross_validate(SlopeOne(), data, measures = ['RMSE'],return_train_measures=True, cv = 10, verbose = False)\n",
    "\n",
    "#CoClustering\n",
    "r3 = cross_validate(CoClustering(), data, measures=['RMSE'],return_train_measures=True, cv=10, verbose=False)"
   ]
  },
  {
   "cell_type": "code",
   "execution_count": 9,
   "id": "60c932a2",
   "metadata": {},
   "outputs": [
    {
     "data": {
      "text/html": [
       "<div>\n",
       "<style scoped>\n",
       "    .dataframe tbody tr th:only-of-type {\n",
       "        vertical-align: middle;\n",
       "    }\n",
       "\n",
       "    .dataframe tbody tr th {\n",
       "        vertical-align: top;\n",
       "    }\n",
       "\n",
       "    .dataframe thead th {\n",
       "        text-align: right;\n",
       "    }\n",
       "</style>\n",
       "<table border=\"1\" class=\"dataframe\">\n",
       "  <thead>\n",
       "    <tr style=\"text-align: right;\">\n",
       "      <th></th>\n",
       "      <th>test_rmse</th>\n",
       "      <th>train_rmse</th>\n",
       "      <th>fit_time</th>\n",
       "      <th>test_time</th>\n",
       "    </tr>\n",
       "    <tr>\n",
       "      <th>Método</th>\n",
       "      <th></th>\n",
       "      <th></th>\n",
       "      <th></th>\n",
       "      <th></th>\n",
       "    </tr>\n",
       "  </thead>\n",
       "  <tbody>\n",
       "    <tr>\n",
       "      <th>SVD</th>\n",
       "      <td>1.444846</td>\n",
       "      <td>0.720130</td>\n",
       "      <td>7.873987</td>\n",
       "      <td>0.133971</td>\n",
       "    </tr>\n",
       "    <tr>\n",
       "      <th>Slope One</th>\n",
       "      <td>1.677218</td>\n",
       "      <td>0.679304</td>\n",
       "      <td>1.798130</td>\n",
       "      <td>0.521415</td>\n",
       "    </tr>\n",
       "    <tr>\n",
       "      <th>Co Clustering</th>\n",
       "      <td>1.790489</td>\n",
       "      <td>1.308271</td>\n",
       "      <td>7.430485</td>\n",
       "      <td>0.090419</td>\n",
       "    </tr>\n",
       "  </tbody>\n",
       "</table>\n",
       "</div>"
      ],
      "text/plain": [
       "               test_rmse  train_rmse  fit_time  test_time\n",
       "Método                                                   \n",
       "SVD             1.444846    0.720130  7.873987   0.133971\n",
       "Slope One       1.677218    0.679304  1.798130   0.521415\n",
       "Co Clustering   1.790489    1.308271  7.430485   0.090419"
      ]
     },
     "execution_count": 9,
     "metadata": {},
     "output_type": "execute_result"
    }
   ],
   "source": [
    "grupo = []\n",
    "svdCrss = pd.DataFrame.from_dict(r1).mean(axis=0)\n",
    "svdCrss = svdCrss.append(pd.Series([str(\"SVD\")], index= ['Método']))\n",
    "SOCrss = pd.DataFrame.from_dict(r2).mean(axis=0)\n",
    "SOCrss = SOCrss.append(pd.Series([str(\"Slope One\")], index= ['Método']))\n",
    "CoCCrss = pd.DataFrame.from_dict(r3).mean(axis=0)\n",
    "CoCCrss = CoCCrss.append(pd.Series([str(\"Co Clustering\")], index= ['Método']))\n",
    "grupo.append(svdCrss)\n",
    "grupo.append(SOCrss)\n",
    "grupo.append(CoCCrss)\n",
    "\n",
    "resultados = pd.DataFrame(grupo).set_index(\"Método\").sort_values('test_rmse')\n",
    "resultados"
   ]
  },
  {
   "cell_type": "code",
   "execution_count": 10,
   "id": "b6010ef6",
   "metadata": {},
   "outputs": [
    {
     "data": {
      "text/plain": [
       "Text(0.5, 1.0, 'RMSE')"
      ]
     },
     "execution_count": 10,
     "metadata": {},
     "output_type": "execute_result"
    },
    {
     "data": {
      "image/png": "[encoded data removed]",
      "text/plain": [
       "<Figure size 720x720 with 1 Axes>"
      ]
     },
     "metadata": {
      "needs_background": "light"
     },
     "output_type": "display_data"
    }
   ],
   "source": [
    "plt.figure(figsize=(10,10))\n",
    "for metodo in resultados.index:\n",
    "    plt.bar(metodo, resultados['test_rmse'][metodo])\n",
    "plt.ylabel(\"RMSE en Testeo\")\n",
    "plt.xlabel(\"Método\")\n",
    "plt.title(\"RMSE\")"
   ]
  },
  {
   "cell_type": "code",
   "execution_count": 11,
   "id": "8139a347",
   "metadata": {},
   "outputs": [],
   "source": [
    "from surprise.model_selection import train_test_split\n",
    "trainset, testset = train_test_split(data, test_size= 0.25)"
   ]
  },
  {
   "cell_type": "code",
   "execution_count": 12,
   "id": "8f57c38b",
   "metadata": {},
   "outputs": [
    {
     "name": "stderr",
     "output_type": "stream",
     "text": [
      "<ipython-input-12-727c36771aae>:4: DeprecationWarning: `np.int` is a deprecated alias for the builtin `int`. To silence this warning, use `int` by itself. Doing this will not modify any behavior and is safe. When replacing `np.int`, you may wish to use e.g. `np.int64` or `np.int32` to specify the precision. If you wish to review your current use, check the release note link for additional information.\n",
      "Deprecated in NumPy 1.20; for more details and guidance: https://numpy.org/devdocs/release/1.20.0-notes.html#deprecations\n",
      "  slopeOne.fit(trainset)\n",
      "<ipython-input-12-727c36771aae>:12: DeprecationWarning: `np.int` is a deprecated alias for the builtin `int`. To silence this warning, use `int` by itself. Doing this will not modify any behavior and is safe. When replacing `np.int`, you may wish to use e.g. `np.int64` or `np.int32` to specify the precision. If you wish to review your current use, check the release note link for additional information.\n",
      "Deprecated in NumPy 1.20; for more details and guidance: https://numpy.org/devdocs/release/1.20.0-notes.html#deprecations\n",
      "  coClustering.fit(trainset)\n"
     ]
    },
    {
     "name": "stdout",
     "output_type": "stream",
     "text": [
      "RMSE: 1.7702\n",
      "RMSE SlopeOne: 1.77020247070022\n",
      "RMSE: 1.5475\n",
      "RMSE SVD: 1.5475232382913202\n",
      "RMSE: 1.8296\n",
      "RMSE CoClustering: 1.8296041715868783\n"
     ]
    }
   ],
   "source": [
    "from surprise.accuracy import rmse\n",
    "#SlopOne\n",
    "slopeOne = SlopeOne()\n",
    "slopeOne.fit(trainset)\n",
    "predictionsSlopeOne = slopeOne.test(testset)\n",
    "#SVD\n",
    "svd = SVD()\n",
    "svd.fit(trainset)\n",
    "prediciontsSVD = svd.test(testset)\n",
    "#CoClustering\n",
    "coClustering = CoClustering()\n",
    "coClustering.fit(trainset)\n",
    "predictionscoClustering = coClustering.test(testset)\n",
    "print(\"RMSE SlopeOne:\",rmse(predictionsSlopeOne))\n",
    "print(\"RMSE SVD:\",rmse(prediciontsSVD))\n",
    "print(\"RMSE CoClustering:\",rmse(predictionscoClustering))"
   ]
  },
  {
   "cell_type": "code",
   "execution_count": 29,
   "id": "4a895f5a",
   "metadata": {},
   "outputs": [
    {
     "data": {
      "text/plain": [
       "Text(0.5, 1.0, 'Error cuadrático medio en Training Set')"
      ]
     },
     "execution_count": 29,
     "metadata": {},
     "output_type": "execute_result"
    },
    {
     "data": {
      "image/png": "[encoded data removed]",
      "text/plain": [
       "<Figure size 1152x720 with 1 Axes>"
      ]
     },
     "metadata": {
      "needs_background": "light"
     },
     "output_type": "display_data"
    }
   ],
   "source": [
    "plt.figure(figsize=(16,10))\n",
    "plt.ylabel(\"Error cuadrático medio\")\n",
    "plt.xlabel(\"Iteración\")\n",
    "plt.plot(range(10),r1['train_rmse'],'-o',color='r',label=\"SVD\")\n",
    "plt.plot(range(10),r2['train_rmse'],'-o',color='b',label=\"Slope One\")\n",
    "plt.plot(range(10),r3['train_rmse'],'-o',color='y',label=\"Co Clustering\")\n",
    "plt.legend(loc=\"right\",prop={'size':20})\n",
    "plt.title(\"Error cuadrático medio en Training Set\")"
   ]
  },
  {
   "cell_type": "code",
   "execution_count": 30,
   "id": "aa6f02a3",
   "metadata": {},
   "outputs": [
    {
     "data": {
      "text/plain": [
       "Text(0.5, 1.0, 'Error cuadrático medio en Test Set')"
      ]
     },
     "execution_count": 30,
     "metadata": {},
     "output_type": "execute_result"
    },
    {
     "data": {
      "image/png": "[encoded data removed]",
      "text/plain": [
       "<Figure size 1152x720 with 1 Axes>"
      ]
     },
     "metadata": {
      "needs_background": "light"
     },
     "output_type": "display_data"
    }
   ],
   "source": [
    "plt.figure(figsize=(16,10))\n",
    "plt.ylabel(\"Error cuadrático medio\")\n",
    "plt.xlabel(\"Iteración\")\n",
    "plt.plot(range(10),r1['test_rmse'],'-o',color='r',label=\"SVD\")\n",
    "plt.plot(range(10),r2['test_rmse'],'-o',color='b',label=\"Slope One\")\n",
    "plt.plot(range(10),r3['test_rmse'],'-o',color='y',label=\"Co Clustering\")\n",
    "plt.legend(loc=\"right\",prop={'size':20})\n",
    "plt.title(\"Error cuadrático medio en Test Set\")"
   ]
  },
  {
   "cell_type": "code",
   "execution_count": 136,
   "id": "18a4cb08",
   "metadata": {},
   "outputs": [
    {
     "name": "stdout",
     "output_type": "stream",
     "text": [
      "Recomendación SVD:\n",
      "Stark700:\n",
      "\t Ping Pong the Animation\n",
      "\t Monogatari Series: Second Season\n",
      "\t Shouwa Genroku Rakugo Shinjuu\n",
      "\t High Score Girl\n",
      "\t Mob Psycho 100 II\n",
      "\t Ookami Kodomo no Ame to Yuki\n",
      "\t Yagate Kimi ni Naru\n",
      "\t Zetsuen no Tempest\n",
      "\n",
      "Recomendación Slope One:\n",
      "Stark700:\n",
      "\t Shouwa Genroku Rakugo Shinjuu\n",
      "\t G\n",
      "\t Ping Pong the Animation\n",
      "\t Mahou Shoujo Madoka★Magica Movie 2: Eien no Monogatari\n",
      "\t Kara no Kyoukai: Mirai Fukuin\n",
      "\t Vinland Saga\n",
      "\t Haikyuu!!\n",
      "\t Shingeki no Bahamut: Genesis\n",
      "\t Shirobako\n",
      "\n",
      "Recomendación Co Clustering:\n",
      "Stark700:\n",
      "\t Haikyuu!!\n",
      "\t Sora yori mo Tooi Basho\n",
      "\t Kuroko no Basket: Tip Off\n",
      "\t Bakuman. 3rd Season\n",
      "\t K\n",
      "\t Mob Psycho 100 II\n",
      "\t Mahou Shoujo Madoka★Magica Movie 2: Eien no Monogatari\n",
      "\t Gin no Saji 2nd Season\n",
      "\t Ping Pong the Animation\n"
     ]
    }
   ],
   "source": [
    "from collections import defaultdict\n",
    "\n",
    "from surprise import Dataset\n",
    "\n",
    "\n",
    "\n",
    "def get_top_n(predictions, n=10):\n",
    "    # First map the predictions to each user.\n",
    "    top_n = defaultdict(list)\n",
    "    for uid, iid, true_r, est, _ in predictions:\n",
    "        top_n[uid].append((iid, est))\n",
    "\n",
    "    # Then sort the predictions for each user and retrieve the k highest ones.\n",
    "    for uid, user_ratings in top_n.items():\n",
    "        user_ratings.sort(key=lambda x: x[1], reverse=True)\n",
    "        top_n[uid] = user_ratings[:n]\n",
    "\n",
    "    return top_n\n",
    "\n",
    "top_n = get_top_n(prediciontsSVD, n=10)\n",
    "\n",
    "unique = []\n",
    "name = 'Stark700'\n",
    "for uid,_ in top_n[name]:\n",
    "    lista = animes.loc[uid,'title']\n",
    "    lista = list(dict.fromkeys(lista))\n",
    "    if lista[0] not in unique:\n",
    "        unique.append(lista[0])\n",
    "print(\"Recomendación SVD:\")\n",
    "print(name+\":\")\n",
    "for el in unique:\n",
    "    print(\"\\t\",el)\n",
    "print()    \n",
    "\n",
    "top_n2 = get_top_n(predictionsSlopeOne, n=10)\n",
    "\n",
    "unique = []\n",
    "name = 'Stark700'\n",
    "for uid,_ in top_n2[name]:\n",
    "    lista = animes.loc[uid,'title']\n",
    "    lista = list(dict.fromkeys(lista))\n",
    "    if lista[0] not in unique:\n",
    "        unique.append(lista[0])\n",
    "print(\"Recomendación Slope One:\")\n",
    "print(name+\":\")\n",
    "for el in unique:\n",
    "    print(\"\\t\",el)\n",
    "print()\n",
    "\n",
    "top_n3 = get_top_n(predictionscoClustering, n=10)\n",
    "\n",
    "unique = []\n",
    "name = 'Stark700'\n",
    "for uid,_ in top_n3[name]:\n",
    "    lista = animes.loc[uid,'title']\n",
    "    lista = list(dict.fromkeys(lista))\n",
    "    if lista[0] not in unique:\n",
    "        unique.append(lista[0])\n",
    "print(\"Recomendación Co Clustering:\")\n",
    "print(name+\":\")\n",
    "for el in unique:\n",
    "    print(\"\\t\",el)\n"
   ]
  },
  {
   "cell_type": "code",
   "execution_count": null,
   "id": "d655d05b",
   "metadata": {},
   "outputs": [],
   "source": []
  }
 ],
 "metadata": {
  "kernelspec": {
   "display_name": "Python 3",
   "language": "python",
   "name": "python3"
  },
  "language_info": {
   "codemirror_mode": {
    "name": "ipython",
    "version": 3
   },
   "file_extension": ".py",
   "mimetype": "text/x-python",
   "name": "python",
   "nbconvert_exporter": "python",
   "pygments_lexer": "ipython3",
   "version": "3.8.8"
  }
 },
 "nbformat": 4,
 "nbformat_minor": 5
}
